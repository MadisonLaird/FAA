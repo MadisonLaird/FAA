{
 "cells": [
  {
   "cell_type": "code",
   "execution_count": 31,
   "metadata": {},
   "outputs": [],
   "source": [
    "# import dependencies\n",
    "import pandas as pd\n",
    "import matplotlib.pyplot as plt\n",
    "import seaborn as sns\n",
    "import numpy as np\n",
    "#from jupyterthemes import jtplot\n",
    "#jtplot.style(theme='gruvboxl')\n",
    "plt.style.use('ggplot')"
   ]
  },
  {
   "cell_type": "code",
   "execution_count": 12,
   "metadata": {},
   "outputs": [],
   "source": [
    "# read data\n",
    "df = pd.read_excel('faa_data_model.xlsx', sheet_name = 'clean_data', index_col = 'Combination')"
   ]
  },
  {
   "cell_type": "code",
   "execution_count": 25,
   "metadata": {},
   "outputs": [
    {
     "data": {
      "text/plain": [
       "['Actual Expended Sum',\n",
       " 'Expended Sum Higher Spend Scenario',\n",
       " 'Expended Sum Lower Spend Scenario',\n",
       " 'Expended Sum Normal Distribution',\n",
       " 'Expended Sum Normal Distribution Higher Spend Scenario',\n",
       " 'Expended Sum Normal Distribution Lower Spend Scenario',\n",
       " 'Expended Sum Triangular Distribution',\n",
       " 'Expended Sum Triangular Distribution Higher Spend Scenario',\n",
       " 'Expended Sum Triangular Distribution Lower Spend Scenario',\n",
       " 'Expended Sum PERT Distribution',\n",
       " 'Expended Sum PERT Distribution Higher Spend Scenario',\n",
       " 'Expended Sum PERT Distribution Lower Spend Scenario',\n",
       " 'Expended Sum Uniform Distribution',\n",
       " 'Expended Sum Uniform Distribution Higher Spend Scenario',\n",
       " 'Expended Sum Uniform Distribution Lower Spend Scenario',\n",
       " 'Expended Sum LogNormal Distribution',\n",
       " 'Expended Sum LogNormal Distribution Higher Spend Scenario',\n",
       " 'Expended Sum LogNormal Distribution Lower Spend Scenario',\n",
       " 'Expended Sum Beta Distribution',\n",
       " 'Expended Sum Beta Distribution Higher Spend Scenario',\n",
       " 'Expended Sum Beta Distribution Lower Spend Scenario',\n",
       " 'Expended Sum Weibull Distribution',\n",
       " 'Expended Sum Weibull Distribution Higher Spend Scenario',\n",
       " 'Expended Sum Weibull Distribution Lower Spend Scenario']"
      ]
     },
     "execution_count": 25,
     "metadata": {},
     "output_type": "execute_result"
    }
   ],
   "source": [
    "# select columns with only 'Expended Sum' for plotting\n",
    "exp_cols = list(filter(lambda x: 'Expended' in x, list(df.columns)))"
   ]
  },
  {
   "cell_type": "code",
   "execution_count": 73,
   "metadata": {},
   "outputs": [
    {
     "data": {
      "image/png": "[encoded data removed]",
      "text/plain": [
       "<Figure size 460.8x403.2 with 1 Axes>"
      ]
     },
     "metadata": {},
     "output_type": "display_data"
    }
   ],
   "source": [
    "# Plot the distributions\n",
    "\n",
    "def plot_dist(n):\n",
    "    n = n - 1\n",
    "    plt.hist(df[exp_cols[n]], alpha = 0.5, label='Medium', cumulative=False)\n",
    "    plt.hist(df[exp_cols[n + 1]], alpha = 0.5, label='High', cumulative=False)\n",
    "    plt.hist(df[exp_cols[n + 2]], alpha = 0.5, label='Low', cumulative=False)\n",
    "    plt.legend(loc='upper right')\n",
    "    plt.title (exp_cols[n])\n",
    "    plt.show()\n",
    "\n",
    "plot_dist(1)"
   ]
  },
  {
   "cell_type": "code",
   "execution_count": 56,
   "metadata": {},
   "outputs": [
    {
     "name": "stdout",
     "output_type": "stream",
     "text": [
      "5425468.072141588\n",
      "5979530.0997891985\n",
      "4913391.986262188\n"
     ]
    }
   ],
   "source": [
    "print (df['Expended Sum Normal Distribution'].mean())\n",
    "print (df['Expended Sum Normal Distribution Higher Spend Scenario'].mean())\n",
    "print (df['Expended Sum Normal Distribution Lower Spend Scenario'].mean())"
   ]
  }
 ],
 "metadata": {
  "kernelspec": {
   "display_name": "Python 3",
   "language": "python",
   "name": "python3"
  },
  "language_info": {
   "codemirror_mode": {
    "name": "ipython",
    "version": 3
   },
   "file_extension": ".py",
   "mimetype": "text/x-python",
   "name": "python",
   "nbconvert_exporter": "python",
   "pygments_lexer": "ipython3",
   "version": "3.6.6"
  }
 },
 "nbformat": 4,
 "nbformat_minor": 2
}
