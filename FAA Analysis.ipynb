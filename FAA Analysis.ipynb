{
 "cells": [
  {
   "cell_type": "code",
   "execution_count": 2,
   "metadata": {
    "collapsed": true
   },
   "outputs": [],
   "source": [
    "# Import the dependencies\n",
    "import pandas as pd\n",
    "import numpy as np\n",
    "import matplotlib.pyplot as plt\n",
    "import seaborn as sns\n",
    "from scipy import stats\n",
    "from scipy.stats import kstest\n",
    "from scipy.stats import ks_2samp\n",
    "from scipy.stats import distributions as dist"
   ]
  },
  {
   "cell_type": "code",
   "execution_count": 3,
   "metadata": {},
   "outputs": [
    {
     "data": {
      "text/plain": [
       "'C:\\\\Users\\\\Xu'"
      ]
     },
     "execution_count": 3,
     "metadata": {},
     "output_type": "execute_result"
    }
   ],
   "source": [
    "import os\n",
    "os.getcwd()"
   ]
  },
  {
   "cell_type": "code",
   "execution_count": 4,
   "metadata": {
    "collapsed": true
   },
   "outputs": [],
   "source": [
    "# Cook the dataset\n",
    "file = 'faa.xlsx'\n",
    "df = pd.read_excel (file, 'GL')\n",
    "df = pd.DataFrame (df)\n",
    "df_1 = df[df['WBS'].map(lambda x : x.startswith('WB'))]            #Select WBS starting with 'WB'\n",
    "df_2 = df_1[['CIP', 'Commitment SUM', 'Expended SUM']]             #Select these three columns\n",
    "df_3 = df_2.groupby('CIP').sum()                                   #Group by 'CIP' and sumup\n",
    "# print (df_3)"
   ]
  },
  {
   "cell_type": "code",
   "execution_count": 5,
   "metadata": {},
   "outputs": [
    {
     "name": "stdout",
     "output_type": "stream",
     "text": [
      "86629\n",
      "125488588.12\n",
      "-6563424.44\n",
      "2180.85\n",
      "140755.649836\n"
     ]
    }
   ],
   "source": [
    "# Convert the columns into ndarrays\n",
    "\n",
    "exp = np.array(df_3['Expended SUM'])\n",
    "exp_all = np.array(df_2['Expended SUM'])\n",
    "comm = np.array(df_3['Commitment SUM'])\n",
    "comm_all = np.array(df_3['Commitment SUM'])\n",
    "diff = exp - comm\n",
    "print (len(exp_all))\n",
    "print (exp_all.max())\n",
    "print (exp_all.min())\n",
    "print (np.median(exp_all))\n",
    "print (exp_all.mean())"
   ]
  },
  {
   "cell_type": "code",
   "execution_count": 9,
   "metadata": {},
   "outputs": [
    {
     "data": {
      "image/png": "[encoded data removed]",
      "text/plain": [
       "<matplotlib.figure.Figure at 0x29a512adf98>"
      ]
     },
     "metadata": {},
     "output_type": "display_data"
    },
    {
     "data": {
      "text/plain": [
       "284"
      ]
     },
     "execution_count": 9,
     "metadata": {},
     "output_type": "execute_result"
    }
   ],
   "source": [
    "# Exploratory -- Data Plots_Expended SUM\n",
    "\n",
    "num = np.arange(1, len(exp_all)+ 1)\n",
    "plt.subplot(221)\n",
    "plt.scatter(exp_all, num)\n",
    "plt.subplot(222)\n",
    "plt.boxplot(exp_all)\n",
    "plt.subplot(224)\n",
    "plt.hist(exp_all, bins = 20)\n",
    "plt.show()\n",
    "len(exp_all)\n",
    "len(exp)\n",
    "#e = pd.DataFrame(exp_main2)\n",
    "#e.describe()"
   ]
  },
  {
   "cell_type": "code",
   "execution_count": 25,
   "metadata": {},
   "outputs": [
    {
     "name": "stdout",
     "output_type": "stream",
     "text": [
      "(9818104.034292724, -55.32985870926359, 108936558.63112831)\n"
     ]
    },
    {
     "data": {
      "image/png": "[encoded data removed]",
      "text/plain": [
       "<matplotlib.figure.Figure at 0x1e9a1a1a278>"
      ]
     },
     "metadata": {},
     "output_type": "display_data"
    },
    {
     "data": {
      "text/plain": [
       "Ks_2sampResult(statistic=0.54225352112676051, pvalue=1.7518873696057615e-37)"
      ]
     },
     "execution_count": 25,
     "metadata": {},
     "output_type": "execute_result"
    }
   ],
   "source": [
    "#print (len (exp))\n",
    "#sns.distplot(exp, rug = True, hist = False)\n",
    "#dist = sns.distplot(exp, bins = 30, kde = False, fit = stats.expon)\n",
    "#plt.show()\n",
    "fit = stats.skewnorm.fit(exp)\n",
    "print (fit)\n",
    "a,b,c = fit[0], fit[1],fit[2]\n",
    "data = stats.skewnorm.rvs(a,b,c, size = 284)\n",
    "plt.subplot(121)\n",
    "plt.hist(exp, bins = 20)\n",
    "plt.subplot(122)\n",
    "plt.hist(data, bins = 20)\n",
    "plt.show()\n",
    "ks_2samp(data, exp)"
   ]
  },
  {
   "cell_type": "code",
   "execution_count": 27,
   "metadata": {},
   "outputs": [
    {
     "name": "stdout",
     "output_type": "stream",
     "text": [
      "42934933.7663\n",
      "100129951.27\n",
      "981488958.15\n"
     ]
    }
   ],
   "source": [
    "# See if the data is normally distributed\n",
    "# Find the key parameters: mean and std\n",
    "\n",
    "mean = exp.mean()\n",
    "std = exp.std()\n",
    "maxx = exp.max()\n",
    "print (mean)\n",
    "print (std)\n",
    "print (maxx)"
   ]
  },
  {
   "cell_type": "code",
   "execution_count": 28,
   "metadata": {},
   "outputs": [
    {
     "data": {
      "image/png": "[encoded data removed]",
      "text/plain": [
       "<matplotlib.figure.Figure at 0x1e9a1238da0>"
      ]
     },
     "metadata": {},
     "output_type": "display_data"
    }
   ],
   "source": [
    "# Now generate one million points following Normal Distribution with mean and std\n",
    "data_nd = stats.norm.rvs(mean, std, size = 1000000)\n",
    "plt.hist(data_nd, bins = 20, normed = True)\n",
    "plt.show()"
   ]
  },
  {
   "cell_type": "code",
   "execution_count": 22,
   "metadata": {},
   "outputs": [
    {
     "data": {
      "image/png": "[encoded data removed]",
      "text/plain": [
       "<matplotlib.figure.Figure at 0x1e9a27236a0>"
      ]
     },
     "metadata": {},
     "output_type": "display_data"
    }
   ],
   "source": [
    "# Generate one million points following Exponential Distribution\n",
    "lambd = 1\n",
    "data_ed = stats.expon.rvs (scale = 1/lambd, size = 1000000)\n",
    "num_ed = np.arange(1, 1000001)\n",
    "plt.subplot(211)\n",
    "plt.scatter(data_ed, num_ed)\n",
    "plt.subplot(212)\n",
    "plt.hist(data_ed, bins = 20, normed = True)\n",
    "plt.show()"
   ]
  },
  {
   "cell_type": "code",
   "execution_count": 21,
   "metadata": {},
   "outputs": [
    {
     "name": "stdout",
     "output_type": "stream",
     "text": [
      "KstestResult(statistic=0.97887323943661975, pvalue=0.0)\n"
     ]
    }
   ],
   "source": [
    "# Implement K-S test to test the fitting of Exp Dist_Expended SUM\n",
    "test_stat = kstest(exp, 'norm')\n",
    "print (test_stat)"
   ]
  },
  {
   "cell_type": "code",
   "execution_count": 3,
   "metadata": {},
   "outputs": [
    {
     "ename": "NameError",
     "evalue": "name 'data_nd' is not defined",
     "output_type": "error",
     "traceback": [
      "\u001b[1;31m---------------------------------------------------------------------------\u001b[0m",
      "\u001b[1;31mNameError\u001b[0m                                 Traceback (most recent call last)",
      "\u001b[1;32m<ipython-input-3-e4464183016e>\u001b[0m in \u001b[0;36m<module>\u001b[1;34m()\u001b[0m\n\u001b[0;32m      2\u001b[0m \u001b[0mbeta\u001b[0m \u001b[1;33m=\u001b[0m \u001b[0mnp\u001b[0m\u001b[1;33m.\u001b[0m\u001b[0mrandom\u001b[0m\u001b[1;33m.\u001b[0m\u001b[0mbeta\u001b[0m \u001b[1;33m(\u001b[0m\u001b[1;36m0.4\u001b[0m\u001b[1;33m,\u001b[0m \u001b[1;36m300\u001b[0m\u001b[1;33m,\u001b[0m \u001b[1;36m284\u001b[0m\u001b[1;33m)\u001b[0m\u001b[1;33m\u001b[0m\u001b[0m\n\u001b[0;32m      3\u001b[0m \u001b[0mplt\u001b[0m\u001b[1;33m.\u001b[0m\u001b[0msubplot\u001b[0m\u001b[1;33m(\u001b[0m\u001b[1;36m111\u001b[0m\u001b[1;33m)\u001b[0m\u001b[1;33m\u001b[0m\u001b[0m\n\u001b[1;32m----> 4\u001b[1;33m \u001b[0mplt\u001b[0m\u001b[1;33m.\u001b[0m\u001b[0mhist\u001b[0m \u001b[1;33m(\u001b[0m\u001b[0mdata_nd\u001b[0m\u001b[1;33m,\u001b[0m \u001b[0mbins\u001b[0m \u001b[1;33m=\u001b[0m \u001b[1;36m20\u001b[0m\u001b[1;33m)\u001b[0m\u001b[1;33m\u001b[0m\u001b[0m\n\u001b[0m\u001b[0;32m      5\u001b[0m \u001b[0mplt\u001b[0m\u001b[1;33m.\u001b[0m\u001b[0msubplot\u001b[0m\u001b[1;33m(\u001b[0m\u001b[1;36m112\u001b[0m\u001b[1;33m)\u001b[0m\u001b[1;33m\u001b[0m\u001b[0m\n\u001b[0;32m      6\u001b[0m \u001b[0mplt\u001b[0m\u001b[1;33m.\u001b[0m\u001b[0mhist\u001b[0m \u001b[1;33m(\u001b[0m\u001b[0mexp\u001b[0m\u001b[1;33m,\u001b[0m \u001b[0mbins\u001b[0m \u001b[1;33m=\u001b[0m \u001b[1;36m20\u001b[0m\u001b[1;33m)\u001b[0m\u001b[1;33m\u001b[0m\u001b[0m\n",
      "\u001b[1;31mNameError\u001b[0m: name 'data_nd' is not defined"
     ]
    }
   ],
   "source": [
    "#x = np.random.normal(0,1,1000)\n",
    "beta = np.random.beta (0.4, 300, 284)\n",
    "plt.subplot(111)\n",
    "plt.hist (data_nd, bins = 20)\n",
    "plt.subplot(112)\n",
    "plt.hist (exp, bins = 20)\n",
    "plt.show()\n",
    "ks_2samp(data_nd, exp)\n",
    "\n",
    "#go to learn some beta distribution"
   ]
  },
  {
   "cell_type": "code",
   "execution_count": 37,
   "metadata": {},
   "outputs": [
    {
     "data": {
      "image/png": "[encoded data removed]",
      "text/plain": [
       "<matplotlib.figure.Figure at 0x1e9a0052898>"
      ]
     },
     "metadata": {},
     "output_type": "display_data"
    },
    {
     "data": {
      "text/plain": [
       "Ks_2sampResult(statistic=0.56787456879202947, pvalue=3.8604934456856081e-81)"
      ]
     },
     "execution_count": 37,
     "metadata": {},
     "output_type": "execute_result"
    }
   ],
   "source": [
    "len (data_nd)\n",
    "data_nd_1 = data_nd [data_nd >= 0]\n",
    "plt.hist(data_nd_1, bins = 10)\n",
    "plt.show()\n",
    "ks_2samp(exp, data_nd_1)"
   ]
  },
  {
   "cell_type": "code",
   "execution_count": 29,
   "metadata": {},
   "outputs": [
    {
     "name": "stdout",
     "output_type": "stream",
     "text": [
      "0.0582418335086\n",
      "(1.2660298475830625, 0.41053018592529356, -4.1398023374173995e-22, 22474779.627158403)\n",
      "283\n",
      "284\n"
     ]
    },
    {
     "data": {
      "image/png": "[encoded data removed]",
      "text/plain": [
       "<matplotlib.figure.Figure at 0x25a8a4132e8>"
      ]
     },
     "metadata": {},
     "output_type": "display_data"
    }
   ],
   "source": [
    "#WEIBULL Exploration\n",
    "# Exponentiated Weibull Distribution Test, alpha = 0.05 (yes until pvalue > 0.05)\n",
    "alpha = 0.05\n",
    "while True:\n",
    "    par = stats.exponweib.fit(exp)                  # Get the parameters for Weibull Distribution which fits the data 'exp'\n",
    "    data_we = [stats.exponweib.rvs (par[0], par[1], par[2], par[3]) for i in range (283)]     # Generate a new set of numbers following Weibull distribution\n",
    "    pvalue = ks_2samp(exp, data_we)[1]              # K-S test to see if 'exp' and data_we follow the same distribution\n",
    "    if pvalue >= alpha:                             # Cannot reject H0\n",
    "        break\n",
    "print (pvalue)\n",
    "print (par)\n",
    "print (len(data_we))\n",
    "print (len (exp))\n",
    "plt.subplot(121)\n",
    "plt.hist(exp, bins = 10)\n",
    "plt.subplot(122)\n",
    "plt.hist(data_we, bins = 10)\n",
    "plt.show()"
   ]
  },
  {
   "cell_type": "code",
   "execution_count": 12,
   "metadata": {},
   "outputs": [
    {
     "name": "stdout",
     "output_type": "stream",
     "text": [
      "[104088959.01209402, 1394372.621208404, 122981126.87123455, 8596149.1940428838, 7967730.7479677359, 42001984.354836367, 1155757.5624919604, 1488.4170686477391, 1316111.2360541706, 1109216564.3205762, 600224472.97782242, 50.589416068662835, 1391004613.8085811, 4490086.173739302, 958621279.86359727, 9062263.3805360589, 592809040.35012841, 1182791.0831949203, 87323553.188137084, 11431542.616187705, 22148855.467576127, 1022422.0390398562, 387967.53797870327, 696884.12811890605, 869274774.00075054, 78089121.083201885, 2649832.098643864, 112255708.73428543, 511411.59282372438, 5866146.0322192181, 1304094.877678568, 1207956.9700073176, 2522030.381221402, 80961.731622852501, 3058518.5647580125, 2299114.7638039617, 1530846.0898047702, 14957885.695433574, 267621363.29619819, 167406.60418203144, 2896984.1442012629, 35409187.916281991, 14368935.650947908, 756110.83764275443, 44497114.189566523, 6377262.9525983073, 4082952.0172717478, 388606.8992620756, 3449928.158082814, 243912322.66003597, 11998.513716923049, 13598880.523998642, 200772862.86057633, 413362.87406910135, 208454519.91874331, 494151793.4448626, 15333903.980865024, 66763483.877443425, 20880525.738818835, 33000758.523872916, 14009269.946229408, 9142.4963606543188, 34509387.269197546, 566839.6747375367, 5103979.6908681719, 2359372.5600141766, 706238.09098107438, 22242159.900367256, 188044855.90302083, 8475877.9260926973, 176401369.3239755, 770719.6559704704, 6580764.3843407258, 21294505.012515686, 9607420.0760175996, 9718044.4483265765, 14194860.303813405, 411598.43531003624, 79003113.024984941, 321365900.63178909, 174121802.25594297, 24439379.980755839, 176171.04666411161, 239987.35259907061, 63392915.055693448, 40460189.931703582, 99518443.135497525, 100760933.14131224, 628877261.40188313, 131250928.11146605, 6976598.4679793762, 31120873.643794205, 5180117.6769780563, 195723033.67272648, 73388080.547261894, 47518744.398929514, 3489664.2985557616, 5279279.120437976, 245550.15452160739, 3910053.7546640919, 505910.93748186866, 19971357.428324692, 2254822.4110850883, 182779531.10154963, 4078722.1677996786, 303816216.27681917, 6596503.8366389982, 24390901.070207465, 26520659.260671649, 89.728328245134335, 698488.72634882922, 8523193.2303101867, 129505.76264382993, 1504462.5362952128, 33376821.111769829, 3177564.7049518572, 10700122.356405696, 9473221.5349893235, 2230346.5776703274, 102962783.32489832, 209107746.83283502, 21908323.897043385, 2990378.7064693007, 771387.4245724394, 10986911.485281738, 509227.28865360323, 29066633.27797509, 34527512.214575887, 27489722.659479391, 6674651.992369011, 309307512.96675801, 82862.018187067326, 3857629.7251712326, 86622497.580602676, 57533253.49130401, 1263234.2591101874, 3253068.0014420785, 76797288.309708327, 90809202.698306113, 304412136.86610556, 130173489.37742528, 6672251.330781647, 60139624.585221931, 80718713.032559708, 4496729.4671191406, 4081494.4906118908, 13492161.425130999, 21177476.856322709, 69975874.762186483, 3658335.6993058501, 20923.33969299102, 3181439.6408572011, 34546.741010581747, 2455188.6943986337, 88463.94297852843, 52149.534372534799, 2729512.4103429536, 5685423.3334814124, 30211320.985450048, 17521.53407871009, 6184725.9561295584, 192731690.29203537, 23730110.480515376, 8055559.9436682491, 211803542.61680084, 47386247.10779538, 82938981.836179867, 10557167.650984906, 24260612.291761216, 20357274.367762763, 6217172.6055194354, 58249767.416205056, 30750298.011437468, 4689730.2660486205, 69826405.763342023, 42791231.825495183, 182452935.74349973, 808570.09022016963, 170117226.4295285, 325188774.06763601, 8552389.4804985505, 23520369.108456805, 4639737.9684902597, 82462967.921919465, 720967802.28044283, 14686.633608569986, 249966299.76415789, 273384.56840167264, 104272243.41162778, 20825726.000897005, 74833395.360720322, 29096556.158264, 18129501.475488875, 9464455.1218497716, 6861175.3311801245, 33262885.813494995, 9361972.6976437215, 512312.22755648015, 50205412.971406914, 20557188.75921255, 12019774.320132179, 12768217.7871507, 465687.89967256249, 12515405.533432323, 193428652.35275722, 167486793.49337491, 52917876.495075062, 4317737.5589950103, 1085384.46582831, 1674377.0203746124, 801370.05679713516, 115047.54171859466, 617452.34422874148, 315281634.93776059, 15872037.086546743, 2744325.1543608843, 7886397.8627984691, 20330059.148181137, 48754323.993296959, 1888329.9209402078, 42067954.322434917, 6171888.9692861484, 7793119.8354188865, 62667899.700798288, 34243561.627613872, 365748.22841387551, 3795396.4099758966, 55416156.896793872, 17778334.813631602, 278121.56871780928, 826323.06310123962, 73285099.347678587, 206916567.4903926, 211491.9265807592, 170865.08459949534, 15813721.722147785, 122482778.55047174, 3205076.7949871086, 71019659.89212437, 2996606.0266514574, 8991584.3035246693, 1360991.7999398294, 414863988.9334392, 12199955.23116231, 811511.87092152028, 9482250.2337816432, 9404468.3801390566, 826965.87232543691, 1148994.25248355, 853616.53696776892, 32195299.108212613, 1424036.751780154, 43382453.379312232, 6718488.7293598978, 4137855.3437400814, 34682331.02536805, 20458756.572849579, 1335948.1110356997, 1168798.5024995357, 3005804.8908101604, 67835.996332731593, 177417949.66266963, 44124177.254444875, 882324570.08720398, 97816012.162575796, 56887235.651749775, 474300061.75209004, 236775330.84523851, 13115987.317105966, 35803005.10913197, 67710.211052310231, 783434509.74466932, 22495827.479720868, 14316151.621970767, 13044725.791090526, 209552329.54751572, 160811783.81996006, 1102186.8329391202, 12286152.878549183, 2625257.7175009879, 251966.93736916163, 9497417.5346511565, 73652231.720617622]\n"
     ]
    }
   ],
   "source": [
    "print(data_we)"
   ]
  },
  {
   "cell_type": "code",
   "execution_count": 27,
   "metadata": {},
   "outputs": [
    {
     "name": "stdout",
     "output_type": "stream",
     "text": [
      "2.78987239241e-10\n",
      "(0.44239917519859495, -3.5494214394379002e-20, 61869348.006253645)\n"
     ]
    },
    {
     "data": {
      "image/png": "[encoded data removed]",
      "text/plain": [
       "<matplotlib.figure.Figure at 0x231e739f438>"
      ]
     },
     "metadata": {},
     "output_type": "display_data"
    }
   ],
   "source": [
    "# WEIBULL Exploration\n",
    "# Weibull_Min Distribution Test, alpha = 0.05 (yes until pvalue > 0.05, not good enough)\n",
    "alpha = 0.05\n",
    "\n",
    "par = stats.weibull_min.fit(exp)                  # Get the parameters for Weibull Distribution which fits the data 'exp'\n",
    "data_we_min = [stats.weibull_min.rvs (par[0], par[1], par[2]) for i in range (283)]     # Generate a new set of numbers following Weibull distribution\n",
    "pvalue = ks_2samp(exp, data_we_min)[1]              # K-S test to see if 'exp' and data_we follow the same distribution\n",
    "#if pvalue >= alpha:                             # Cannot reject H0\n",
    "# break\n",
    "print (pvalue)\n",
    "print (par)\n",
    "plt.subplot(121)\n",
    "plt.hist(exp, bins = 10)\n",
    "plt.subplot(122)\n",
    "plt.hist(data_we_min, bins = 10)\n",
    "plt.show()"
   ]
  },
  {
   "cell_type": "code",
   "execution_count": 32,
   "metadata": {},
   "outputs": [
    {
     "name": "stdout",
     "output_type": "stream",
     "text": [
      "4.79288698594e-97\n",
      "(0.039391625738089742, 981488958.14999986, 1.7703392209978839)\n"
     ]
    },
    {
     "data": {
      "image/png": "[encoded data removed]",
      "text/plain": [
       "<matplotlib.figure.Figure at 0x231e83c39e8>"
      ]
     },
     "metadata": {},
     "output_type": "display_data"
    }
   ],
   "source": [
    "# WEIBULL Exploration\n",
    "# Weibull_Max Distribution Test, alpha = 0.05 (yes until pvalue > 0.05, not good at all)\n",
    "alpha = 0.05\n",
    "\n",
    "par = stats.weibull_max.fit(exp)                  # Get the parameters for Weibull Distribution which fits the data 'exp'\n",
    "data_we_max = [stats.weibull_max.rvs (par[0], par[1], par[2]) for i in range (283)]     # Generate a new set of numbers following Weibull distribution\n",
    "pvalue = ks_2samp(exp, data_we_max)[1]              # K-S test to see if 'exp' and data_we follow the same distribution\n",
    "#if pvalue >= alpha:                             # Cannot reject H0\n",
    "# break\n",
    "print (pvalue)\n",
    "print (par)\n",
    "plt.subplot(121)\n",
    "plt.hist(exp, bins = 10)\n",
    "plt.subplot(122)\n",
    "plt.hist(data_we_max, bins = 10)\n",
    "plt.show()"
   ]
  },
  {
   "cell_type": "code",
   "execution_count": 222,
   "metadata": {
    "collapsed": true
   },
   "outputs": [],
   "source": [
    "exp_df = pd.DataFrame(exp)\n",
    "exp_df.to_csv ('New.csv')"
   ]
  },
  {
   "cell_type": "code",
   "execution_count": 228,
   "metadata": {},
   "outputs": [
    {
     "name": "stdout",
     "output_type": "stream",
     "text": [
      "6.410903359\n"
     ]
    }
   ],
   "source": [
    "print (min(data_we))"
   ]
  },
  {
   "cell_type": "code",
   "execution_count": 225,
   "metadata": {
    "collapsed": true
   },
   "outputs": [],
   "source": [
    "data_we_df = pd.DataFrame(data_we)\n",
    "data_we_df.to_csv('New1.csv')"
   ]
  },
  {
   "cell_type": "code",
   "execution_count": 2,
   "metadata": {},
   "outputs": [
    {
     "ename": "NameError",
     "evalue": "name 'stats' is not defined",
     "output_type": "error",
     "traceback": [
      "\u001b[1;31m---------------------------------------------------------------------------\u001b[0m",
      "\u001b[1;31mNameError\u001b[0m                                 Traceback (most recent call last)",
      "\u001b[1;32m<ipython-input-2-1a5fd1db5e2f>\u001b[0m in \u001b[0;36m<module>\u001b[1;34m()\u001b[0m\n\u001b[0;32m      2\u001b[0m \u001b[0malpha\u001b[0m \u001b[1;33m=\u001b[0m \u001b[1;36m0.05\u001b[0m\u001b[1;33m\u001b[0m\u001b[0m\n\u001b[0;32m      3\u001b[0m \u001b[1;32mwhile\u001b[0m \u001b[1;32mTrue\u001b[0m\u001b[1;33m:\u001b[0m\u001b[1;33m\u001b[0m\u001b[0m\n\u001b[1;32m----> 4\u001b[1;33m     \u001b[0mpar\u001b[0m \u001b[1;33m=\u001b[0m \u001b[0mstats\u001b[0m\u001b[1;33m.\u001b[0m\u001b[0mnorm\u001b[0m\u001b[1;33m.\u001b[0m\u001b[0mfit\u001b[0m\u001b[1;33m(\u001b[0m\u001b[0mexp\u001b[0m\u001b[1;33m)\u001b[0m\u001b[1;33m\u001b[0m\u001b[0m\n\u001b[0m\u001b[0;32m      5\u001b[0m     \u001b[0mdata_nd\u001b[0m \u001b[1;33m=\u001b[0m \u001b[0mstats\u001b[0m\u001b[1;33m.\u001b[0m\u001b[0mnorm\u001b[0m\u001b[1;33m.\u001b[0m\u001b[0mrvs\u001b[0m \u001b[1;33m(\u001b[0m\u001b[0mpar\u001b[0m\u001b[1;33m[\u001b[0m\u001b[1;36m0\u001b[0m\u001b[1;33m]\u001b[0m\u001b[1;33m,\u001b[0m \u001b[0mpar\u001b[0m\u001b[1;33m[\u001b[0m\u001b[1;36m1\u001b[0m\u001b[1;33m]\u001b[0m\u001b[1;33m,\u001b[0m \u001b[0msize\u001b[0m \u001b[1;33m=\u001b[0m \u001b[1;36m284\u001b[0m\u001b[1;33m)\u001b[0m\u001b[1;33m\u001b[0m\u001b[0m\n\u001b[0;32m      6\u001b[0m     \u001b[0mpvalue\u001b[0m \u001b[1;33m=\u001b[0m \u001b[0mks_2samp\u001b[0m\u001b[1;33m(\u001b[0m\u001b[0mexp\u001b[0m\u001b[1;33m,\u001b[0m \u001b[0mdata_nd\u001b[0m\u001b[1;33m)\u001b[0m\u001b[1;33m[\u001b[0m\u001b[1;36m1\u001b[0m\u001b[1;33m]\u001b[0m\u001b[1;33m\u001b[0m\u001b[0m\n",
      "\u001b[1;31mNameError\u001b[0m: name 'stats' is not defined"
     ]
    }
   ],
   "source": [
    "# Normal Distribution test (no)\n",
    "alpha = 0.05\n",
    "while True:\n",
    "    par = stats.norm.fit(exp)\n",
    "    data_nd = stats.norm.rvs (par[0], par[1], size = 284)\n",
    "    pvalue = ks_2samp(exp, data_nd)[1]\n",
    "    if pvalue >= alpha:                  # Cannot reject H0\n",
    "        break\n",
    "print (pvalue)\n",
    "print (par)\n",
    "plt.hist(data_nd, bins = 10)\n",
    "plt.show()"
   ]
  },
  {
   "cell_type": "code",
   "execution_count": 1,
   "metadata": {},
   "outputs": [
    {
     "ename": "NameError",
     "evalue": "name 'stats' is not defined",
     "output_type": "error",
     "traceback": [
      "\u001b[1;31m---------------------------------------------------------------------------\u001b[0m",
      "\u001b[1;31mNameError\u001b[0m                                 Traceback (most recent call last)",
      "\u001b[1;32m<ipython-input-1-784647d42d98>\u001b[0m in \u001b[0;36m<module>\u001b[1;34m()\u001b[0m\n\u001b[0;32m      2\u001b[0m \u001b[0malpha\u001b[0m \u001b[1;33m=\u001b[0m \u001b[1;36m0.05\u001b[0m\u001b[1;33m\u001b[0m\u001b[0m\n\u001b[0;32m      3\u001b[0m \u001b[1;32mwhile\u001b[0m \u001b[1;32mTrue\u001b[0m\u001b[1;33m:\u001b[0m\u001b[1;33m\u001b[0m\u001b[0m\n\u001b[1;32m----> 4\u001b[1;33m     \u001b[0mpar\u001b[0m \u001b[1;33m=\u001b[0m \u001b[0mstats\u001b[0m\u001b[1;33m.\u001b[0m\u001b[0mbeta\u001b[0m\u001b[1;33m.\u001b[0m\u001b[0mfit\u001b[0m\u001b[1;33m(\u001b[0m\u001b[0mexp\u001b[0m\u001b[1;33m)\u001b[0m\u001b[1;33m\u001b[0m\u001b[0m\n\u001b[0m\u001b[0;32m      5\u001b[0m     \u001b[0mdata_beta\u001b[0m \u001b[1;33m=\u001b[0m \u001b[1;33m[\u001b[0m\u001b[0mstats\u001b[0m\u001b[1;33m.\u001b[0m\u001b[0mbeta\u001b[0m\u001b[1;33m.\u001b[0m\u001b[0mrvs\u001b[0m \u001b[1;33m(\u001b[0m\u001b[0mpar\u001b[0m\u001b[1;33m[\u001b[0m\u001b[1;36m0\u001b[0m\u001b[1;33m]\u001b[0m\u001b[1;33m,\u001b[0m \u001b[0mpar\u001b[0m\u001b[1;33m[\u001b[0m\u001b[1;36m1\u001b[0m\u001b[1;33m]\u001b[0m\u001b[1;33m,\u001b[0m \u001b[0mpar\u001b[0m\u001b[1;33m[\u001b[0m\u001b[1;36m2\u001b[0m\u001b[1;33m]\u001b[0m\u001b[1;33m,\u001b[0m \u001b[0mpar\u001b[0m\u001b[1;33m[\u001b[0m\u001b[1;36m3\u001b[0m\u001b[1;33m]\u001b[0m\u001b[1;33m)\u001b[0m \u001b[1;32mfor\u001b[0m \u001b[0mi\u001b[0m \u001b[1;32min\u001b[0m \u001b[0mrange\u001b[0m \u001b[1;33m(\u001b[0m\u001b[1;36m284\u001b[0m\u001b[1;33m)\u001b[0m\u001b[1;33m]\u001b[0m\u001b[1;33m\u001b[0m\u001b[0m\n\u001b[0;32m      6\u001b[0m     \u001b[0mpvalue\u001b[0m \u001b[1;33m=\u001b[0m \u001b[0mks_2samp\u001b[0m\u001b[1;33m(\u001b[0m\u001b[0mexp\u001b[0m\u001b[1;33m,\u001b[0m \u001b[0mdata_beta\u001b[0m\u001b[1;33m)\u001b[0m\u001b[1;33m[\u001b[0m\u001b[1;36m1\u001b[0m\u001b[1;33m]\u001b[0m\u001b[1;33m\u001b[0m\u001b[0m\n",
      "\u001b[1;31mNameError\u001b[0m: name 'stats' is not defined"
     ]
    }
   ],
   "source": [
    "# Beta Distribution test (no)\n",
    "alpha = 0.05\n",
    "while True:\n",
    "    par = stats.beta.fit(exp)\n",
    "    data_beta = [stats.beta.rvs (par[0], par[1], par[2], par[3]) for i in range (284)]\n",
    "    pvalue = ks_2samp(exp, data_beta)[1]\n",
    "    if pvalue >= alpha:                  # Cannot reject H0\n",
    "        break\n",
    "print (pvalue)\n",
    "print (par)\n",
    "plt.hist(data_beta, bins = 10)\n",
    "plt.show()"
   ]
  }
 ],
 "metadata": {
  "kernelspec": {
   "display_name": "Python 3",
   "language": "python",
   "name": "python3"
  },
  "language_info": {
   "codemirror_mode": {
    "name": "ipython",
    "version": 3
   },
   "file_extension": ".py",
   "mimetype": "text/x-python",
   "name": "python",
   "nbconvert_exporter": "python",
   "pygments_lexer": "ipython3",
   "version": "3.6.6"
  }
 },
 "nbformat": 4,
 "nbformat_minor": 2
}
